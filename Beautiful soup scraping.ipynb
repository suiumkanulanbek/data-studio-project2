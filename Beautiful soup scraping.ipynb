{
 "cells": [
  {
   "cell_type": "code",
   "execution_count": 2,
   "id": "30fe75f9-194e-4795-80ed-925f5724bfb8",
   "metadata": {},
   "outputs": [
    {
     "name": "stdout",
     "output_type": "stream",
     "text": [
      "Requirement already satisfied: beautifulsoup4 in /Users/suiumkanulanbek/.pyenv/versions/3.11.8/lib/python3.11/site-packages (4.12.3)\n",
      "Requirement already satisfied: requests in /Users/suiumkanulanbek/.pyenv/versions/3.11.8/lib/python3.11/site-packages (2.32.3)\n",
      "Requirement already satisfied: soupsieve>1.2 in /Users/suiumkanulanbek/.pyenv/versions/3.11.8/lib/python3.11/site-packages (from beautifulsoup4) (2.6)\n",
      "Requirement already satisfied: charset-normalizer<4,>=2 in /Users/suiumkanulanbek/.pyenv/versions/3.11.8/lib/python3.11/site-packages (from requests) (3.4.1)\n",
      "Requirement already satisfied: idna<4,>=2.5 in /Users/suiumkanulanbek/.pyenv/versions/3.11.8/lib/python3.11/site-packages (from requests) (3.10)\n",
      "Requirement already satisfied: urllib3<3,>=1.21.1 in /Users/suiumkanulanbek/.pyenv/versions/3.11.8/lib/python3.11/site-packages (from requests) (2.3.0)\n",
      "Requirement already satisfied: certifi>=2017.4.17 in /Users/suiumkanulanbek/.pyenv/versions/3.11.8/lib/python3.11/site-packages (from requests) (2024.12.14)\n",
      "\n",
      "\u001b[1m[\u001b[0m\u001b[34;49mnotice\u001b[0m\u001b[1;39;49m]\u001b[0m\u001b[39;49m A new release of pip is available: \u001b[0m\u001b[31;49m24.0\u001b[0m\u001b[39;49m -> \u001b[0m\u001b[32;49m25.0.1\u001b[0m\n",
      "\u001b[1m[\u001b[0m\u001b[34;49mnotice\u001b[0m\u001b[1;39;49m]\u001b[0m\u001b[39;49m To update, run: \u001b[0m\u001b[32;49mpip install --upgrade pip\u001b[0m\n",
      "Note: you may need to restart the kernel to use updated packages.\n"
     ]
    }
   ],
   "source": [
    "pip install beautifulsoup4 requests\n"
   ]
  },
  {
   "cell_type": "code",
   "execution_count": 3,
   "id": "f8cb3806-f503-4875-8c44-092a0a9a49d4",
   "metadata": {},
   "outputs": [],
   "source": [
    "from bs4 import BeautifulSoup\n",
    "import requests\n"
   ]
  },
  {
   "cell_type": "code",
   "execution_count": 4,
   "id": "e35b2c31-6dbc-42ae-9b8d-2ed5e4f6e0e5",
   "metadata": {},
   "outputs": [
    {
     "name": "stdout",
     "output_type": "stream",
     "text": [
      "Page fetched successfully!\n"
     ]
    }
   ],
   "source": [
    "url = \"https://business.columbia.edu/financial-aid/costs/full-time\"\n",
    "response = requests.get(url)\n",
    "\n",
    "# Check if the request was successful\n",
    "if response.status_code == 200:\n",
    "    print(\"Page fetched successfully!\")\n",
    "else:\n",
    "    print(\"Failed to fetch page\")\n"
   ]
  },
  {
   "cell_type": "code",
   "execution_count": 5,
   "id": "c56c580d-250e-4315-b43d-e5db581ff92c",
   "metadata": {},
   "outputs": [],
   "source": [
    "soup = BeautifulSoup(response.text, \"html.parser\")"
   ]
  },
  {
   "cell_type": "code",
   "execution_count": 6,
   "id": "6e5cfffe-e590-47a4-91da-1f49cb30af1b",
   "metadata": {},
   "outputs": [
    {
     "name": "stdout",
     "output_type": "stream",
     "text": [
      "Full-Time | Costs | Financial Aid at CBS\n"
     ]
    }
   ],
   "source": [
    "title = soup.title.text  # Get the title of the page\n",
    "print(title)"
   ]
  },
  {
   "cell_type": "code",
   "execution_count": 7,
   "id": "2bd00f6c-c8c0-49c4-8517-1afd1955fffc",
   "metadata": {},
   "outputs": [],
   "source": [
    "table = soup.find(\"table\", {\"id\": \"example\"})"
   ]
  },
  {
   "cell_type": "code",
   "execution_count": 8,
   "id": "e41cdaf9-8f90-4f10-8d67-6a8c1f3fcc0d",
   "metadata": {},
   "outputs": [
    {
     "name": "stdout",
     "output_type": "stream",
     "text": [
      "Headers: []\n",
      "['Mandatory Fees**', '$5,857']\n",
      "['Health Insurance', '$4,955']\n",
      "['Books & Supplies', '$1,250']\n",
      "['Food & Housing', '$27,396']\n",
      "['Personal Expenses', '$3,177']\n",
      "['Transportation', '$1,323']\n",
      "['First Year Total Budget', '$132,258']\n"
     ]
    }
   ],
   "source": [
    "table = soup.find(\"table\")\n",
    "\n",
    "rows = table.find_all(\"tr\")\n",
    "\n",
    "headers = [header.text.strip() for header in rows[0].find_all(\"th\")]\n",
    "data = []\n",
    "\n",
    "\n",
    "for row in rows[1:]:\n",
    "    cells = row.find_all(\"td\")\n",
    "    data.append([cell.text.strip() for cell in cells])\n",
    "\n",
    "print(\"Headers:\", headers)\n",
    "for row in data:\n",
    "    print(row)\n"
   ]
  },
  {
   "cell_type": "code",
   "execution_count": 9,
   "id": "7e7989ea-a3e0-4fc7-a171-912bdbc75645",
   "metadata": {},
   "outputs": [],
   "source": [
    "import csv\n"
   ]
  },
  {
   "cell_type": "code",
   "execution_count": 10,
   "id": "5c81d440-ce1b-4500-a97a-c41a10ec188d",
   "metadata": {},
   "outputs": [
    {
     "name": "stdout",
     "output_type": "stream",
     "text": [
      "Data has been saved to scraped_data.csv\n"
     ]
    }
   ],
   "source": [
    "filename = \"scraped_data.csv\"\n",
    "\n",
    "with open(filename, 'w', newline='', encoding='utf-8') as csvfile:\n",
    "    csvwriter = csv.writer(csvfile)\n",
    "    \n",
    "    if headers:\n",
    "        csvwriter.writerow(headers)\n",
    "    \n",
    "    for row in data:\n",
    "        csvwriter.writerow(row)\n",
    "\n",
    "print(f\"Data has been saved to {filename}\")\n"
   ]
  },
  {
   "cell_type": "code",
   "execution_count": 11,
   "id": "b4209312-e49e-4cbd-9ae3-fece531cdad0",
   "metadata": {},
   "outputs": [],
   "source": [
    "import pandas as pd"
   ]
  },
  {
   "cell_type": "code",
   "execution_count": 12,
   "id": "39883c5a-dd5c-4cd8-b8aa-0c71519eac4f",
   "metadata": {},
   "outputs": [
    {
     "name": "stdout",
     "output_type": "stream",
     "text": [
      "<class 'pandas.core.frame.DataFrame'>\n",
      "RangeIndex: 6 entries, 0 to 5\n",
      "Data columns (total 2 columns):\n",
      " #   Column            Non-Null Count  Dtype \n",
      "---  ------            --------------  ----- \n",
      " 0   Mandatory Fees**  6 non-null      object\n",
      " 1   $5,857            6 non-null      object\n",
      "dtypes: object(2)\n",
      "memory usage: 228.0+ bytes\n"
     ]
    }
   ],
   "source": [
    "df = pd.read_csv('scraped_data.csv')\n",
    "df.info()"
   ]
  },
  {
   "cell_type": "code",
   "execution_count": 13,
   "id": "d096e503-c0af-47b6-9437-5958ddbce171",
   "metadata": {},
   "outputs": [
    {
     "data": {
      "text/html": [
       "<div>\n",
       "<style scoped>\n",
       "    .dataframe tbody tr th:only-of-type {\n",
       "        vertical-align: middle;\n",
       "    }\n",
       "\n",
       "    .dataframe tbody tr th {\n",
       "        vertical-align: top;\n",
       "    }\n",
       "\n",
       "    .dataframe thead th {\n",
       "        text-align: right;\n",
       "    }\n",
       "</style>\n",
       "<table border=\"1\" class=\"dataframe\">\n",
       "  <thead>\n",
       "    <tr style=\"text-align: right;\">\n",
       "      <th></th>\n",
       "      <th>Mandatory Fees**</th>\n",
       "      <th>$5,857</th>\n",
       "    </tr>\n",
       "  </thead>\n",
       "  <tbody>\n",
       "    <tr>\n",
       "      <th>count</th>\n",
       "      <td>6</td>\n",
       "      <td>6</td>\n",
       "    </tr>\n",
       "    <tr>\n",
       "      <th>unique</th>\n",
       "      <td>6</td>\n",
       "      <td>6</td>\n",
       "    </tr>\n",
       "    <tr>\n",
       "      <th>top</th>\n",
       "      <td>Health Insurance</td>\n",
       "      <td>$4,955</td>\n",
       "    </tr>\n",
       "    <tr>\n",
       "      <th>freq</th>\n",
       "      <td>1</td>\n",
       "      <td>1</td>\n",
       "    </tr>\n",
       "  </tbody>\n",
       "</table>\n",
       "</div>"
      ],
      "text/plain": [
       "        Mandatory Fees**  $5,857\n",
       "count                  6       6\n",
       "unique                 6       6\n",
       "top     Health Insurance  $4,955\n",
       "freq                   1       1"
      ]
     },
     "execution_count": 13,
     "metadata": {},
     "output_type": "execute_result"
    }
   ],
   "source": [
    "df.describe()"
   ]
  },
  {
   "cell_type": "code",
   "execution_count": null,
   "id": "36b1eeff-a221-454b-abfb-376e51d9160c",
   "metadata": {},
   "outputs": [],
   "source": []
  }
 ],
 "metadata": {
  "kernelspec": {
   "display_name": "Python 3 (ipykernel)",
   "language": "python",
   "name": "python3"
  },
  "language_info": {
   "codemirror_mode": {
    "name": "ipython",
    "version": 3
   },
   "file_extension": ".py",
   "mimetype": "text/x-python",
   "name": "python",
   "nbconvert_exporter": "python",
   "pygments_lexer": "ipython3",
   "version": "3.11.8"
  }
 },
 "nbformat": 4,
 "nbformat_minor": 5
}
